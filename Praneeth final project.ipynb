{
 "cells": [
  {
   "cell_type": "markdown",
   "id": "5c7bc7d5-ab5a-4ff5-8f3a-30ee86acfdfa",
   "metadata": {},
   "source": [
    "# <font color = blue> Movie Analysis Using Python </font>\n",
    "\n",
    "We have the data for the 100 top-rated movies from the past decade along with various pieces of information about the movie, its actors, and the voters who have rated these movies online. In this analysis, we will try to find some interesting insights into these movies and their voters, using Python."
   ]
  },
  {
   "cell_type": "code",
   "execution_count": 6,
   "id": "edc6a40d-a098-4436-bd2a-37c87fc1f20e",
   "metadata": {},
   "outputs": [],
   "source": [
    "import numpy as np\n",
    "import pandas as pd\n",
    "import seaborn as sns\n",
    "import matplotlib.pyplot as plt"
   ]
  },
  {
   "cell_type": "markdown",
   "id": "d1254782-c841-4f97-b732-c5f6337cddfb",
   "metadata": {},
   "source": [
    "##  Task 1: Going through the data"
   ]
  },
  {
   "cell_type": "markdown",
   "id": "eebfdef2-4f38-48f6-bd88-42d93d108b97",
   "metadata": {},
   "source": [
    "- ### Subtask 1.1: Read the Movies Data.\n",
    "\n",
    "Read the movies data file provided and we should store it in a dataframe `movies`."
   ]
  },
  {
   "cell_type": "code",
   "execution_count": 9,
   "id": "4411fcc0-17b9-4175-be7d-b49fb4bb5f76",
   "metadata": {},
   "outputs": [],
   "source": [
    "movies = pd.read_csv(\"MovieAssignmentData.csv\")"
   ]
  },
  {
   "cell_type": "markdown",
   "id": "64f9ed7b-fd58-41b7-9eec-597710e42d40",
   "metadata": {},
   "source": [
    "- ###  Subtask 1.2: Check the Dataframe\n",
    "\n",
    "Check the dataframe for dimensions, null-values, and summary of different numeric columns."
   ]
  },
  {
   "cell_type": "code",
   "execution_count": 10,
   "id": "a82a5da2-155b-4aa5-bb52-ef4b4a79dbe8",
   "metadata": {},
   "outputs": [
    {
     "data": {
      "text/plain": [
       "(100, 62)"
      ]
     },
     "execution_count": 10,
     "metadata": {},
     "output_type": "execute_result"
    }
   ],
   "source": [
    "movies.shape"
   ]
  },
  {
   "cell_type": "code",
   "execution_count": 11,
   "id": "4940391b-5e9b-45f6-bf90-458a94e282b2",
   "metadata": {},
   "outputs": [
    {
     "name": "stdout",
     "output_type": "stream",
     "text": [
      "<class 'pandas.core.frame.DataFrame'>\n",
      "RangeIndex: 100 entries, 0 to 99\n",
      "Data columns (total 62 columns):\n",
      " #   Column                  Non-Null Count  Dtype  \n",
      "---  ------                  --------------  -----  \n",
      " 0   Title                   100 non-null    object \n",
      " 1   title_year              100 non-null    int64  \n",
      " 2   budget                  100 non-null    int64  \n",
      " 3   Gross                   100 non-null    int64  \n",
      " 4   actor_1_name            100 non-null    object \n",
      " 5   actor_2_name            100 non-null    object \n",
      " 6   actor_3_name            100 non-null    object \n",
      " 7   actor_1_facebook_likes  100 non-null    int64  \n",
      " 8   actor_2_facebook_likes  99 non-null     float64\n",
      " 9   actor_3_facebook_likes  98 non-null     float64\n",
      " 10  IMDb_rating             100 non-null    float64\n",
      " 11  genre_1                 100 non-null    object \n",
      " 12  genre_2                 97 non-null     object \n",
      " 13  genre_3                 74 non-null     object \n",
      " 14  MetaCritic              95 non-null     float64\n",
      " 15  Runtime                 100 non-null    int64  \n",
      " 16  CVotes10                100 non-null    int64  \n",
      " 17  CVotes09                100 non-null    int64  \n",
      " 18  CVotes08                100 non-null    int64  \n",
      " 19  CVotes07                100 non-null    int64  \n",
      " 20  CVotes06                100 non-null    int64  \n",
      " 21  CVotes05                100 non-null    int64  \n",
      " 22  CVotes04                100 non-null    int64  \n",
      " 23  CVotes03                100 non-null    int64  \n",
      " 24  CVotes02                100 non-null    int64  \n",
      " 25  CVotes01                100 non-null    int64  \n",
      " 26  CVotesMale              100 non-null    int64  \n",
      " 27  CVotesFemale            100 non-null    int64  \n",
      " 28  CVotesU18               100 non-null    int64  \n",
      " 29  CVotesU18M              100 non-null    int64  \n",
      " 30  CVotesU18F              100 non-null    int64  \n",
      " 31  CVotes1829              100 non-null    int64  \n",
      " 32  CVotes1829M             100 non-null    int64  \n",
      " 33  CVotes1829F             100 non-null    int64  \n",
      " 34  CVotes3044              100 non-null    int64  \n",
      " 35  CVotes3044M             100 non-null    int64  \n",
      " 36  CVotes3044F             100 non-null    int64  \n",
      " 37  CVotes45A               100 non-null    int64  \n",
      " 38  CVotes45AM              100 non-null    int64  \n",
      " 39  CVotes45AF              100 non-null    int64  \n",
      " 40  CVotes1000              100 non-null    int64  \n",
      " 41  CVotesUS                100 non-null    int64  \n",
      " 42  CVotesnUS               100 non-null    int64  \n",
      " 43  VotesM                  100 non-null    float64\n",
      " 44  VotesF                  100 non-null    float64\n",
      " 45  VotesU18                100 non-null    float64\n",
      " 46  VotesU18M               100 non-null    float64\n",
      " 47  VotesU18F               100 non-null    float64\n",
      " 48  Votes1829               100 non-null    float64\n",
      " 49  Votes1829M              100 non-null    float64\n",
      " 50  Votes1829F              100 non-null    float64\n",
      " 51  Votes3044               100 non-null    float64\n",
      " 52  Votes3044M              100 non-null    float64\n",
      " 53  Votes3044F              100 non-null    float64\n",
      " 54  Votes45A                100 non-null    float64\n",
      " 55  Votes45AM               100 non-null    float64\n",
      " 56  Votes45AF               100 non-null    float64\n",
      " 57  Votes1000               100 non-null    float64\n",
      " 58  VotesUS                 100 non-null    float64\n",
      " 59  VotesnUS                100 non-null    float64\n",
      " 60  content_rating          100 non-null    object \n",
      " 61  Country                 100 non-null    object \n",
      "dtypes: float64(21), int64(32), object(9)\n",
      "memory usage: 48.6+ KB\n"
     ]
    }
   ],
   "source": [
    "movies.info()"
   ]
  },
  {
   "cell_type": "code",
   "execution_count": 12,
   "id": "d6d655fb-5cb5-4617-a4ac-ca8b30b6eab2",
   "metadata": {},
   "outputs": [
    {
     "data": {
      "text/html": [
       "<div>\n",
       "<style scoped>\n",
       "    .dataframe tbody tr th:only-of-type {\n",
       "        vertical-align: middle;\n",
       "    }\n",
       "\n",
       "    .dataframe tbody tr th {\n",
       "        vertical-align: top;\n",
       "    }\n",
       "\n",
       "    .dataframe thead th {\n",
       "        text-align: right;\n",
       "    }\n",
       "</style>\n",
       "<table border=\"1\" class=\"dataframe\">\n",
       "  <thead>\n",
       "    <tr style=\"text-align: right;\">\n",
       "      <th></th>\n",
       "      <th>title_year</th>\n",
       "      <th>budget</th>\n",
       "      <th>Gross</th>\n",
       "      <th>actor_1_facebook_likes</th>\n",
       "      <th>actor_2_facebook_likes</th>\n",
       "      <th>actor_3_facebook_likes</th>\n",
       "      <th>IMDb_rating</th>\n",
       "      <th>MetaCritic</th>\n",
       "      <th>Runtime</th>\n",
       "      <th>CVotes10</th>\n",
       "      <th>...</th>\n",
       "      <th>Votes1829F</th>\n",
       "      <th>Votes3044</th>\n",
       "      <th>Votes3044M</th>\n",
       "      <th>Votes3044F</th>\n",
       "      <th>Votes45A</th>\n",
       "      <th>Votes45AM</th>\n",
       "      <th>Votes45AF</th>\n",
       "      <th>Votes1000</th>\n",
       "      <th>VotesUS</th>\n",
       "      <th>VotesnUS</th>\n",
       "    </tr>\n",
       "  </thead>\n",
       "  <tbody>\n",
       "    <tr>\n",
       "      <th>count</th>\n",
       "      <td>100.000000</td>\n",
       "      <td>1.000000e+02</td>\n",
       "      <td>1.000000e+02</td>\n",
       "      <td>100.000000</td>\n",
       "      <td>99.000000</td>\n",
       "      <td>98.000000</td>\n",
       "      <td>100.000000</td>\n",
       "      <td>95.000000</td>\n",
       "      <td>100.000000</td>\n",
       "      <td>100.000000</td>\n",
       "      <td>...</td>\n",
       "      <td>100.000000</td>\n",
       "      <td>100.000000</td>\n",
       "      <td>100.000000</td>\n",
       "      <td>100.000000</td>\n",
       "      <td>100.00000</td>\n",
       "      <td>100.000000</td>\n",
       "      <td>100.000000</td>\n",
       "      <td>100.000000</td>\n",
       "      <td>100.000000</td>\n",
       "      <td>100.000000</td>\n",
       "    </tr>\n",
       "    <tr>\n",
       "      <th>mean</th>\n",
       "      <td>2012.820000</td>\n",
       "      <td>7.838400e+07</td>\n",
       "      <td>1.468679e+08</td>\n",
       "      <td>13407.270000</td>\n",
       "      <td>7377.303030</td>\n",
       "      <td>3002.153061</td>\n",
       "      <td>7.883000</td>\n",
       "      <td>78.252632</td>\n",
       "      <td>126.420000</td>\n",
       "      <td>73212.160000</td>\n",
       "      <td>...</td>\n",
       "      <td>7.982000</td>\n",
       "      <td>7.732000</td>\n",
       "      <td>7.723000</td>\n",
       "      <td>7.780000</td>\n",
       "      <td>7.65100</td>\n",
       "      <td>7.624000</td>\n",
       "      <td>7.770000</td>\n",
       "      <td>7.274000</td>\n",
       "      <td>7.958000</td>\n",
       "      <td>7.793000</td>\n",
       "    </tr>\n",
       "    <tr>\n",
       "      <th>std</th>\n",
       "      <td>1.919491</td>\n",
       "      <td>7.445295e+07</td>\n",
       "      <td>1.454004e+08</td>\n",
       "      <td>10649.037862</td>\n",
       "      <td>13471.568216</td>\n",
       "      <td>6940.301133</td>\n",
       "      <td>0.247433</td>\n",
       "      <td>9.122066</td>\n",
       "      <td>19.050799</td>\n",
       "      <td>82669.594746</td>\n",
       "      <td>...</td>\n",
       "      <td>0.321417</td>\n",
       "      <td>0.251814</td>\n",
       "      <td>0.260479</td>\n",
       "      <td>0.282128</td>\n",
       "      <td>0.21485</td>\n",
       "      <td>0.213258</td>\n",
       "      <td>0.301344</td>\n",
       "      <td>0.361987</td>\n",
       "      <td>0.232327</td>\n",
       "      <td>0.264099</td>\n",
       "    </tr>\n",
       "    <tr>\n",
       "      <th>min</th>\n",
       "      <td>2010.000000</td>\n",
       "      <td>3.000000e+06</td>\n",
       "      <td>2.238380e+05</td>\n",
       "      <td>39.000000</td>\n",
       "      <td>12.000000</td>\n",
       "      <td>0.000000</td>\n",
       "      <td>7.500000</td>\n",
       "      <td>62.000000</td>\n",
       "      <td>91.000000</td>\n",
       "      <td>6420.000000</td>\n",
       "      <td>...</td>\n",
       "      <td>7.300000</td>\n",
       "      <td>7.300000</td>\n",
       "      <td>7.200000</td>\n",
       "      <td>7.200000</td>\n",
       "      <td>7.10000</td>\n",
       "      <td>7.100000</td>\n",
       "      <td>7.000000</td>\n",
       "      <td>6.400000</td>\n",
       "      <td>7.500000</td>\n",
       "      <td>7.300000</td>\n",
       "    </tr>\n",
       "    <tr>\n",
       "      <th>25%</th>\n",
       "      <td>2011.000000</td>\n",
       "      <td>1.575000e+07</td>\n",
       "      <td>4.199752e+07</td>\n",
       "      <td>1000.000000</td>\n",
       "      <td>580.000000</td>\n",
       "      <td>319.750000</td>\n",
       "      <td>7.700000</td>\n",
       "      <td>72.000000</td>\n",
       "      <td>114.750000</td>\n",
       "      <td>30587.000000</td>\n",
       "      <td>...</td>\n",
       "      <td>7.700000</td>\n",
       "      <td>7.600000</td>\n",
       "      <td>7.500000</td>\n",
       "      <td>7.600000</td>\n",
       "      <td>7.50000</td>\n",
       "      <td>7.475000</td>\n",
       "      <td>7.500000</td>\n",
       "      <td>7.100000</td>\n",
       "      <td>7.800000</td>\n",
       "      <td>7.600000</td>\n",
       "    </tr>\n",
       "    <tr>\n",
       "      <th>50%</th>\n",
       "      <td>2013.000000</td>\n",
       "      <td>4.225000e+07</td>\n",
       "      <td>1.070266e+08</td>\n",
       "      <td>13000.000000</td>\n",
       "      <td>1000.000000</td>\n",
       "      <td>626.500000</td>\n",
       "      <td>7.800000</td>\n",
       "      <td>78.000000</td>\n",
       "      <td>124.000000</td>\n",
       "      <td>54900.500000</td>\n",
       "      <td>...</td>\n",
       "      <td>8.000000</td>\n",
       "      <td>7.700000</td>\n",
       "      <td>7.700000</td>\n",
       "      <td>7.800000</td>\n",
       "      <td>7.65000</td>\n",
       "      <td>7.600000</td>\n",
       "      <td>7.800000</td>\n",
       "      <td>7.300000</td>\n",
       "      <td>7.950000</td>\n",
       "      <td>7.750000</td>\n",
       "    </tr>\n",
       "    <tr>\n",
       "      <th>75%</th>\n",
       "      <td>2014.000000</td>\n",
       "      <td>1.500000e+08</td>\n",
       "      <td>2.107548e+08</td>\n",
       "      <td>20000.000000</td>\n",
       "      <td>11000.000000</td>\n",
       "      <td>1000.000000</td>\n",
       "      <td>8.100000</td>\n",
       "      <td>83.500000</td>\n",
       "      <td>136.250000</td>\n",
       "      <td>80639.000000</td>\n",
       "      <td>...</td>\n",
       "      <td>8.200000</td>\n",
       "      <td>7.900000</td>\n",
       "      <td>7.900000</td>\n",
       "      <td>8.000000</td>\n",
       "      <td>7.80000</td>\n",
       "      <td>7.800000</td>\n",
       "      <td>7.925000</td>\n",
       "      <td>7.500000</td>\n",
       "      <td>8.100000</td>\n",
       "      <td>7.925000</td>\n",
       "    </tr>\n",
       "    <tr>\n",
       "      <th>max</th>\n",
       "      <td>2016.000000</td>\n",
       "      <td>2.600000e+08</td>\n",
       "      <td>9.366622e+08</td>\n",
       "      <td>35000.000000</td>\n",
       "      <td>96000.000000</td>\n",
       "      <td>46000.000000</td>\n",
       "      <td>8.800000</td>\n",
       "      <td>100.000000</td>\n",
       "      <td>180.000000</td>\n",
       "      <td>584839.000000</td>\n",
       "      <td>...</td>\n",
       "      <td>8.800000</td>\n",
       "      <td>8.700000</td>\n",
       "      <td>8.700000</td>\n",
       "      <td>8.500000</td>\n",
       "      <td>8.10000</td>\n",
       "      <td>8.100000</td>\n",
       "      <td>8.500000</td>\n",
       "      <td>8.200000</td>\n",
       "      <td>8.700000</td>\n",
       "      <td>8.800000</td>\n",
       "    </tr>\n",
       "  </tbody>\n",
       "</table>\n",
       "<p>8 rows × 53 columns</p>\n",
       "</div>"
      ],
      "text/plain": [
       "        title_year        budget         Gross  actor_1_facebook_likes  \\\n",
       "count   100.000000  1.000000e+02  1.000000e+02              100.000000   \n",
       "mean   2012.820000  7.838400e+07  1.468679e+08            13407.270000   \n",
       "std       1.919491  7.445295e+07  1.454004e+08            10649.037862   \n",
       "min    2010.000000  3.000000e+06  2.238380e+05               39.000000   \n",
       "25%    2011.000000  1.575000e+07  4.199752e+07             1000.000000   \n",
       "50%    2013.000000  4.225000e+07  1.070266e+08            13000.000000   \n",
       "75%    2014.000000  1.500000e+08  2.107548e+08            20000.000000   \n",
       "max    2016.000000  2.600000e+08  9.366622e+08            35000.000000   \n",
       "\n",
       "       actor_2_facebook_likes  actor_3_facebook_likes  IMDb_rating  \\\n",
       "count               99.000000               98.000000   100.000000   \n",
       "mean              7377.303030             3002.153061     7.883000   \n",
       "std              13471.568216             6940.301133     0.247433   \n",
       "min                 12.000000                0.000000     7.500000   \n",
       "25%                580.000000              319.750000     7.700000   \n",
       "50%               1000.000000              626.500000     7.800000   \n",
       "75%              11000.000000             1000.000000     8.100000   \n",
       "max              96000.000000            46000.000000     8.800000   \n",
       "\n",
       "       MetaCritic     Runtime       CVotes10  ...  Votes1829F   Votes3044  \\\n",
       "count   95.000000  100.000000     100.000000  ...  100.000000  100.000000   \n",
       "mean    78.252632  126.420000   73212.160000  ...    7.982000    7.732000   \n",
       "std      9.122066   19.050799   82669.594746  ...    0.321417    0.251814   \n",
       "min     62.000000   91.000000    6420.000000  ...    7.300000    7.300000   \n",
       "25%     72.000000  114.750000   30587.000000  ...    7.700000    7.600000   \n",
       "50%     78.000000  124.000000   54900.500000  ...    8.000000    7.700000   \n",
       "75%     83.500000  136.250000   80639.000000  ...    8.200000    7.900000   \n",
       "max    100.000000  180.000000  584839.000000  ...    8.800000    8.700000   \n",
       "\n",
       "       Votes3044M  Votes3044F   Votes45A   Votes45AM   Votes45AF   Votes1000  \\\n",
       "count  100.000000  100.000000  100.00000  100.000000  100.000000  100.000000   \n",
       "mean     7.723000    7.780000    7.65100    7.624000    7.770000    7.274000   \n",
       "std      0.260479    0.282128    0.21485    0.213258    0.301344    0.361987   \n",
       "min      7.200000    7.200000    7.10000    7.100000    7.000000    6.400000   \n",
       "25%      7.500000    7.600000    7.50000    7.475000    7.500000    7.100000   \n",
       "50%      7.700000    7.800000    7.65000    7.600000    7.800000    7.300000   \n",
       "75%      7.900000    8.000000    7.80000    7.800000    7.925000    7.500000   \n",
       "max      8.700000    8.500000    8.10000    8.100000    8.500000    8.200000   \n",
       "\n",
       "          VotesUS    VotesnUS  \n",
       "count  100.000000  100.000000  \n",
       "mean     7.958000    7.793000  \n",
       "std      0.232327    0.264099  \n",
       "min      7.500000    7.300000  \n",
       "25%      7.800000    7.600000  \n",
       "50%      7.950000    7.750000  \n",
       "75%      8.100000    7.925000  \n",
       "max      8.700000    8.800000  \n",
       "\n",
       "[8 rows x 53 columns]"
      ]
     },
     "execution_count": 12,
     "metadata": {},
     "output_type": "execute_result"
    }
   ],
   "source": [
    "movies.describe()"
   ]
  },
  {
   "cell_type": "markdown",
   "id": "811f5b05-8751-4a91-8404-7d7a89a75937",
   "metadata": {},
   "source": [
    "## Task 2: Data Analysis\n",
    "\n",
    "Now from the above checks, we see that most of the data is in place. As of now, no data cleaning is required, so let's start with some data manipulation, analysis, and visualisation to get various insights about the data. "
   ]
  },
  {
   "cell_type": "markdown",
   "id": "d9f647ff-c7a6-44e4-93bf-2687209e902b",
   "metadata": {},
   "source": [
    "-  ###  Subtask 2.1: Reduce those Digits!\n",
    "\n",
    "These numbers in the `budget` and `gross` are too big, compromising its readability. Let's convert the unit of the `budget` and `gross` columns from `$` to `million $` first."
   ]
  },
  {
   "cell_type": "code",
   "execution_count": 13,
   "id": "da97603a-c43f-4bf7-9c15-9aa848a1ef7a",
   "metadata": {},
   "outputs": [
    {
     "data": {
      "text/html": [
       "<div>\n",
       "<style scoped>\n",
       "    .dataframe tbody tr th:only-of-type {\n",
       "        vertical-align: middle;\n",
       "    }\n",
       "\n",
       "    .dataframe tbody tr th {\n",
       "        vertical-align: top;\n",
       "    }\n",
       "\n",
       "    .dataframe thead th {\n",
       "        text-align: right;\n",
       "    }\n",
       "</style>\n",
       "<table border=\"1\" class=\"dataframe\">\n",
       "  <thead>\n",
       "    <tr style=\"text-align: right;\">\n",
       "      <th></th>\n",
       "      <th>Gross</th>\n",
       "      <th>budget</th>\n",
       "    </tr>\n",
       "  </thead>\n",
       "  <tbody>\n",
       "    <tr>\n",
       "      <th>0</th>\n",
       "      <td>151101803</td>\n",
       "      <td>30000000</td>\n",
       "    </tr>\n",
       "    <tr>\n",
       "      <th>1</th>\n",
       "      <td>341268248</td>\n",
       "      <td>150000000</td>\n",
       "    </tr>\n",
       "    <tr>\n",
       "      <th>2</th>\n",
       "      <td>51738905</td>\n",
       "      <td>12000000</td>\n",
       "    </tr>\n",
       "    <tr>\n",
       "      <th>3</th>\n",
       "      <td>100546139</td>\n",
       "      <td>47000000</td>\n",
       "    </tr>\n",
       "    <tr>\n",
       "      <th>4</th>\n",
       "      <td>47695371</td>\n",
       "      <td>9000000</td>\n",
       "    </tr>\n",
       "  </tbody>\n",
       "</table>\n",
       "</div>"
      ],
      "text/plain": [
       "       Gross     budget\n",
       "0  151101803   30000000\n",
       "1  341268248  150000000\n",
       "2   51738905   12000000\n",
       "3  100546139   47000000\n",
       "4   47695371    9000000"
      ]
     },
     "execution_count": 13,
     "metadata": {},
     "output_type": "execute_result"
    }
   ],
   "source": [
    "movies.loc[:,[\"Gross\",\"budget\"]].head()"
   ]
  },
  {
   "cell_type": "code",
   "execution_count": 14,
   "id": "a1f05c62-ad86-4ce4-ae26-0d83159dc94e",
   "metadata": {},
   "outputs": [],
   "source": [
    "movies[\"Gross\"] = movies[\"Gross\"] / 1000000\n",
    "movies[\"budget\"] = movies[\"budget\"] / 1000000"
   ]
  },
  {
   "cell_type": "code",
   "execution_count": 15,
   "id": "f405f867-4b12-47d0-af1f-b5dc03d09279",
   "metadata": {},
   "outputs": [
    {
     "data": {
      "text/html": [
       "<div>\n",
       "<style scoped>\n",
       "    .dataframe tbody tr th:only-of-type {\n",
       "        vertical-align: middle;\n",
       "    }\n",
       "\n",
       "    .dataframe tbody tr th {\n",
       "        vertical-align: top;\n",
       "    }\n",
       "\n",
       "    .dataframe thead th {\n",
       "        text-align: right;\n",
       "    }\n",
       "</style>\n",
       "<table border=\"1\" class=\"dataframe\">\n",
       "  <thead>\n",
       "    <tr style=\"text-align: right;\">\n",
       "      <th></th>\n",
       "      <th>Gross</th>\n",
       "      <th>budget</th>\n",
       "    </tr>\n",
       "  </thead>\n",
       "  <tbody>\n",
       "    <tr>\n",
       "      <th>0</th>\n",
       "      <td>151.101803</td>\n",
       "      <td>30.0</td>\n",
       "    </tr>\n",
       "    <tr>\n",
       "      <th>1</th>\n",
       "      <td>341.268248</td>\n",
       "      <td>150.0</td>\n",
       "    </tr>\n",
       "    <tr>\n",
       "      <th>2</th>\n",
       "      <td>51.738905</td>\n",
       "      <td>12.0</td>\n",
       "    </tr>\n",
       "    <tr>\n",
       "      <th>3</th>\n",
       "      <td>100.546139</td>\n",
       "      <td>47.0</td>\n",
       "    </tr>\n",
       "    <tr>\n",
       "      <th>4</th>\n",
       "      <td>47.695371</td>\n",
       "      <td>9.0</td>\n",
       "    </tr>\n",
       "  </tbody>\n",
       "</table>\n",
       "</div>"
      ],
      "text/plain": [
       "        Gross  budget\n",
       "0  151.101803    30.0\n",
       "1  341.268248   150.0\n",
       "2   51.738905    12.0\n",
       "3  100.546139    47.0\n",
       "4   47.695371     9.0"
      ]
     },
     "execution_count": 15,
     "metadata": {},
     "output_type": "execute_result"
    }
   ],
   "source": [
    "movies.loc[:,[\"Gross\",\"budget\"]].head()"
   ]
  },
  {
   "cell_type": "markdown",
   "id": "369f16d6-288e-488e-8401-0f3008844a29",
   "metadata": {},
   "source": [
    "  ###  Subtask 2.2: Let's Take Profit since there is no column with data profit!\n",
    "\n",
    "  I Created a new column called `profit` which contains the difference of the two columns: `gross` and `budget`."
   ]
  },
  {
   "cell_type": "code",
   "execution_count": 16,
   "id": "05dd0f53-3d9e-4cb2-87b0-9f8c4bb066e9",
   "metadata": {},
   "outputs": [],
   "source": [
    "movies[\"profit\"] = movies[\"Gross\"] - movies[\"budget\"]"
   ]
  },
  {
   "cell_type": "code",
   "execution_count": 17,
   "id": "601a81b9-7e53-4e4f-b477-0cf196c7e77d",
   "metadata": {},
   "outputs": [
    {
     "data": {
      "text/html": [
       "<div>\n",
       "<style scoped>\n",
       "    .dataframe tbody tr th:only-of-type {\n",
       "        vertical-align: middle;\n",
       "    }\n",
       "\n",
       "    .dataframe tbody tr th {\n",
       "        vertical-align: top;\n",
       "    }\n",
       "\n",
       "    .dataframe thead th {\n",
       "        text-align: right;\n",
       "    }\n",
       "</style>\n",
       "<table border=\"1\" class=\"dataframe\">\n",
       "  <thead>\n",
       "    <tr style=\"text-align: right;\">\n",
       "      <th></th>\n",
       "      <th>Title</th>\n",
       "      <th>title_year</th>\n",
       "      <th>budget</th>\n",
       "      <th>Gross</th>\n",
       "      <th>actor_1_name</th>\n",
       "      <th>actor_2_name</th>\n",
       "      <th>actor_3_name</th>\n",
       "      <th>actor_1_facebook_likes</th>\n",
       "      <th>actor_2_facebook_likes</th>\n",
       "      <th>actor_3_facebook_likes</th>\n",
       "      <th>...</th>\n",
       "      <th>Votes3044F</th>\n",
       "      <th>Votes45A</th>\n",
       "      <th>Votes45AM</th>\n",
       "      <th>Votes45AF</th>\n",
       "      <th>Votes1000</th>\n",
       "      <th>VotesUS</th>\n",
       "      <th>VotesnUS</th>\n",
       "      <th>content_rating</th>\n",
       "      <th>Country</th>\n",
       "      <th>profit</th>\n",
       "    </tr>\n",
       "  </thead>\n",
       "  <tbody>\n",
       "    <tr>\n",
       "      <th>0</th>\n",
       "      <td>La La Land</td>\n",
       "      <td>2016</td>\n",
       "      <td>30.0</td>\n",
       "      <td>151.101803</td>\n",
       "      <td>Ryan Gosling</td>\n",
       "      <td>Emma Stone</td>\n",
       "      <td>Amiée Conn</td>\n",
       "      <td>14000</td>\n",
       "      <td>19000.0</td>\n",
       "      <td>NaN</td>\n",
       "      <td>...</td>\n",
       "      <td>7.8</td>\n",
       "      <td>7.6</td>\n",
       "      <td>7.6</td>\n",
       "      <td>7.5</td>\n",
       "      <td>7.1</td>\n",
       "      <td>8.3</td>\n",
       "      <td>8.1</td>\n",
       "      <td>PG-13</td>\n",
       "      <td>USA</td>\n",
       "      <td>121.101803</td>\n",
       "    </tr>\n",
       "  </tbody>\n",
       "</table>\n",
       "<p>1 rows × 63 columns</p>\n",
       "</div>"
      ],
      "text/plain": [
       "        Title  title_year  budget       Gross  actor_1_name actor_2_name  \\\n",
       "0  La La Land        2016    30.0  151.101803  Ryan Gosling   Emma Stone   \n",
       "\n",
       "  actor_3_name  actor_1_facebook_likes  actor_2_facebook_likes  \\\n",
       "0   Amiée Conn                   14000                 19000.0   \n",
       "\n",
       "   actor_3_facebook_likes  ...  Votes3044F Votes45A Votes45AM Votes45AF  \\\n",
       "0                     NaN  ...         7.8      7.6       7.6       7.5   \n",
       "\n",
       "   Votes1000  VotesUS  VotesnUS  content_rating  Country      profit  \n",
       "0        7.1      8.3       8.1           PG-13      USA  121.101803  \n",
       "\n",
       "[1 rows x 63 columns]"
      ]
     },
     "execution_count": 17,
     "metadata": {},
     "output_type": "execute_result"
    }
   ],
   "source": [
    "movies.head(1)"
   ]
  },
  {
   "cell_type": "markdown",
   "id": "f9967a45-711f-461f-8840-61e3f0e047e3",
   "metadata": {},
   "source": [
    "# Sorting the dataframe with the 'profit' column as reference using the 'sort_values' function.\n",
    "\n"
   ]
  },
  {
   "cell_type": "code",
   "execution_count": 21,
   "id": "af76902d-e9b9-4882-9e8e-955b14c0963a",
   "metadata": {},
   "outputs": [],
   "source": [
    "movies.sort_values(by = \"profit\", ascending = False, inplace = True)"
   ]
  },
  {
   "cell_type": "code",
   "execution_count": 22,
   "id": "46d86db1-8753-44d4-964e-275e8c23887d",
   "metadata": {},
   "outputs": [],
   "source": [
    "movies.reset_index(drop = True, inplace = True)"
   ]
  },
  {
   "cell_type": "code",
   "execution_count": 24,
   "id": "1388ca8b-ba86-4536-bdf9-dc0efc1f7cc9",
   "metadata": {},
   "outputs": [
    {
     "data": {
      "text/html": [
       "<div>\n",
       "<style scoped>\n",
       "    .dataframe tbody tr th:only-of-type {\n",
       "        vertical-align: middle;\n",
       "    }\n",
       "\n",
       "    .dataframe tbody tr th {\n",
       "        vertical-align: top;\n",
       "    }\n",
       "\n",
       "    .dataframe thead th {\n",
       "        text-align: right;\n",
       "    }\n",
       "</style>\n",
       "<table border=\"1\" class=\"dataframe\">\n",
       "  <thead>\n",
       "    <tr style=\"text-align: right;\">\n",
       "      <th></th>\n",
       "      <th>Title</th>\n",
       "      <th>title_year</th>\n",
       "      <th>budget</th>\n",
       "      <th>Gross</th>\n",
       "      <th>actor_1_name</th>\n",
       "      <th>actor_2_name</th>\n",
       "      <th>actor_3_name</th>\n",
       "      <th>actor_1_facebook_likes</th>\n",
       "      <th>actor_2_facebook_likes</th>\n",
       "      <th>actor_3_facebook_likes</th>\n",
       "      <th>...</th>\n",
       "      <th>Votes3044F</th>\n",
       "      <th>Votes45A</th>\n",
       "      <th>Votes45AM</th>\n",
       "      <th>Votes45AF</th>\n",
       "      <th>Votes1000</th>\n",
       "      <th>VotesUS</th>\n",
       "      <th>VotesnUS</th>\n",
       "      <th>content_rating</th>\n",
       "      <th>Country</th>\n",
       "      <th>profit</th>\n",
       "    </tr>\n",
       "  </thead>\n",
       "  <tbody>\n",
       "    <tr>\n",
       "      <th>0</th>\n",
       "      <td>Star Wars: Episode VII - The Force Awakens</td>\n",
       "      <td>2015</td>\n",
       "      <td>245.0</td>\n",
       "      <td>936.662225</td>\n",
       "      <td>Doug Walker</td>\n",
       "      <td>Rob Walker</td>\n",
       "      <td>0</td>\n",
       "      <td>131</td>\n",
       "      <td>12.0</td>\n",
       "      <td>0.0</td>\n",
       "      <td>...</td>\n",
       "      <td>8.2</td>\n",
       "      <td>7.9</td>\n",
       "      <td>7.8</td>\n",
       "      <td>8.2</td>\n",
       "      <td>7.7</td>\n",
       "      <td>8.2</td>\n",
       "      <td>7.9</td>\n",
       "      <td>PG-13</td>\n",
       "      <td>USA</td>\n",
       "      <td>691.662225</td>\n",
       "    </tr>\n",
       "    <tr>\n",
       "      <th>1</th>\n",
       "      <td>The Avengers</td>\n",
       "      <td>2012</td>\n",
       "      <td>220.0</td>\n",
       "      <td>623.279547</td>\n",
       "      <td>Chris Hemsworth</td>\n",
       "      <td>Robert Downey Jr.</td>\n",
       "      <td>Scarlett Johansson</td>\n",
       "      <td>26000</td>\n",
       "      <td>21000.0</td>\n",
       "      <td>19000.0</td>\n",
       "      <td>...</td>\n",
       "      <td>8.1</td>\n",
       "      <td>7.9</td>\n",
       "      <td>7.9</td>\n",
       "      <td>8.1</td>\n",
       "      <td>7.4</td>\n",
       "      <td>8.3</td>\n",
       "      <td>7.9</td>\n",
       "      <td>PG-13</td>\n",
       "      <td>USA</td>\n",
       "      <td>403.279547</td>\n",
       "    </tr>\n",
       "    <tr>\n",
       "      <th>2</th>\n",
       "      <td>Deadpool</td>\n",
       "      <td>2016</td>\n",
       "      <td>58.0</td>\n",
       "      <td>363.024263</td>\n",
       "      <td>Ryan Reynolds</td>\n",
       "      <td>Ed Skrein</td>\n",
       "      <td>Stefan Kapicic</td>\n",
       "      <td>16000</td>\n",
       "      <td>805.0</td>\n",
       "      <td>361.0</td>\n",
       "      <td>...</td>\n",
       "      <td>7.9</td>\n",
       "      <td>7.8</td>\n",
       "      <td>7.8</td>\n",
       "      <td>7.9</td>\n",
       "      <td>7.3</td>\n",
       "      <td>8.1</td>\n",
       "      <td>7.9</td>\n",
       "      <td>R</td>\n",
       "      <td>USA</td>\n",
       "      <td>305.024263</td>\n",
       "    </tr>\n",
       "    <tr>\n",
       "      <th>3</th>\n",
       "      <td>The Hunger Games: Catching Fire</td>\n",
       "      <td>2013</td>\n",
       "      <td>130.0</td>\n",
       "      <td>424.645577</td>\n",
       "      <td>Jennifer Lawrence</td>\n",
       "      <td>Josh Hutcherson</td>\n",
       "      <td>Sandra Ellis Lafferty</td>\n",
       "      <td>34000</td>\n",
       "      <td>14000.0</td>\n",
       "      <td>523.0</td>\n",
       "      <td>...</td>\n",
       "      <td>7.9</td>\n",
       "      <td>7.3</td>\n",
       "      <td>7.2</td>\n",
       "      <td>7.9</td>\n",
       "      <td>6.7</td>\n",
       "      <td>7.7</td>\n",
       "      <td>7.4</td>\n",
       "      <td>PG-13</td>\n",
       "      <td>USA</td>\n",
       "      <td>294.645577</td>\n",
       "    </tr>\n",
       "  </tbody>\n",
       "</table>\n",
       "<p>4 rows × 63 columns</p>\n",
       "</div>"
      ],
      "text/plain": [
       "                                        Title  title_year  budget       Gross  \\\n",
       "0  Star Wars: Episode VII - The Force Awakens        2015   245.0  936.662225   \n",
       "1                                The Avengers        2012   220.0  623.279547   \n",
       "2                                    Deadpool        2016    58.0  363.024263   \n",
       "3             The Hunger Games: Catching Fire        2013   130.0  424.645577   \n",
       "\n",
       "        actor_1_name       actor_2_name           actor_3_name  \\\n",
       "0        Doug Walker         Rob Walker                      0   \n",
       "1    Chris Hemsworth  Robert Downey Jr.     Scarlett Johansson   \n",
       "2      Ryan Reynolds          Ed Skrein         Stefan Kapicic   \n",
       "3  Jennifer Lawrence    Josh Hutcherson  Sandra Ellis Lafferty   \n",
       "\n",
       "   actor_1_facebook_likes  actor_2_facebook_likes  actor_3_facebook_likes  \\\n",
       "0                     131                    12.0                     0.0   \n",
       "1                   26000                 21000.0                 19000.0   \n",
       "2                   16000                   805.0                   361.0   \n",
       "3                   34000                 14000.0                   523.0   \n",
       "\n",
       "   ...  Votes3044F Votes45A Votes45AM Votes45AF  Votes1000  VotesUS  VotesnUS  \\\n",
       "0  ...         8.2      7.9       7.8       8.2        7.7      8.2       7.9   \n",
       "1  ...         8.1      7.9       7.9       8.1        7.4      8.3       7.9   \n",
       "2  ...         7.9      7.8       7.8       7.9        7.3      8.1       7.9   \n",
       "3  ...         7.9      7.3       7.2       7.9        6.7      7.7       7.4   \n",
       "\n",
       "   content_rating  Country      profit  \n",
       "0           PG-13      USA  691.662225  \n",
       "1           PG-13      USA  403.279547  \n",
       "2               R      USA  305.024263  \n",
       "3           PG-13      USA  294.645577  \n",
       "\n",
       "[4 rows x 63 columns]"
      ]
     },
     "execution_count": 24,
     "metadata": {},
     "output_type": "execute_result"
    }
   ],
   "source": [
    "movies.head(4)"
   ]
  },
  {
   "cell_type": "markdown",
   "id": "12d58097-a62a-4bc6-b3a8-dce31abf5b4b",
   "metadata": {},
   "source": [
    "# I Extract the top ten profiting movies in descending order and store them in a new dataframe - top10"
   ]
  },
  {
   "cell_type": "code",
   "execution_count": 25,
   "id": "ee37d7a8-7475-4fc6-a26a-f59aaf58ff0b",
   "metadata": {},
   "outputs": [],
   "source": [
    "top10 = movies.loc[:9,:].copy()"
   ]
  },
  {
   "cell_type": "code",
   "execution_count": 26,
   "id": "4a24be5c-f28e-4bfc-b1d0-2706820ba2b9",
   "metadata": {},
   "outputs": [
    {
     "data": {
      "text/plain": [
       "(10, 63)"
      ]
     },
     "execution_count": 26,
     "metadata": {},
     "output_type": "execute_result"
    }
   ],
   "source": [
    "top10.shape"
   ]
  },
  {
   "cell_type": "code",
   "execution_count": 91,
   "id": "51b93c8c-149d-4a95-9763-c86d5cd3d4af",
   "metadata": {},
   "outputs": [],
   "source": [
    "movies[\"profit_colors\"] = movies.profit.apply(lambda x: \"Blue\" if x < 0 else \"Orange\")"
   ]
  },
  {
   "cell_type": "code",
   "execution_count": null,
   "id": "e3809fd7-b63c-493f-b0c5-0ee40e57ebfa",
   "metadata": {},
   "outputs": [],
   "source": [
    "# I Plotted a scatter plot between the columns budget and profit and write a few words on what you observed\n"
   ]
  },
  {
   "cell_type": "code",
   "execution_count": 92,
   "id": "93f2f8b2-f09d-46fc-bf2c-97e78a1eb12f",
   "metadata": {},
   "outputs": [
    {
     "data": {
      "image/png": "[encoded data removed]",
      "text/plain": [
       "<Figure size 432x288 with 1 Axes>"
      ]
     },
     "metadata": {
      "needs_background": "light"
     },
     "output_type": "display_data"
    }
   ],
   "source": [
    "movies.plot(kind = \"scatter\", x = \"profit\", y = \"budget\", c = \"profit_colors\", title = \"Profit vs. Budget\")\n",
    "plt.show()"
   ]
  },
  {
   "cell_type": "markdown",
   "id": "b4cda9dc-7f6c-49e3-a940-73593efcd0ad",
   "metadata": {},
   "source": [
    "## From the above analysis we can find out that\n",
    "\n",
    "- A couple of movies with large budgets having a negative value for Profit.\n",
    "- There is one movie which has both high budget (approx. `250 Million`) and a very high profit (approx. `700 Million`)"
   ]
  },
  {
   "cell_type": "markdown",
   "id": "36148028-a2f3-49c1-b2c4-cf054400692b",
   "metadata": {},
   "source": [
    "The dataset contains the 100 best performing movies from the year 2010 to 2016. However, the scatter plot tells a different story. You can notice that there are some movies with negative profit. Although good movies do incur losses, but there appear to be quite a few movie with losses. What can be the reason behind this? Lets have a closer look at this by finding the movies with negative profit."
   ]
  },
  {
   "cell_type": "code",
   "execution_count": 104,
   "id": "f79b3b8d-ec74-4d2d-833f-9709944753d1",
   "metadata": {},
   "outputs": [
    {
     "data": {
      "image/png": "[encoded data removed]",
      "text/plain": [
       "<Figure size 432x288 with 1 Axes>"
      ]
     },
     "metadata": {
      "needs_background": "light"
     },
     "output_type": "display_data"
    }
   ],
   "source": [
    "movies.plot(kind = \"scatter\", x = \"title_year\", y = \"budget\", s = \"budget\", title = \"title_year vs. Budget\")\n",
    "plt.show()"
   ]
  },
  {
   "cell_type": "markdown",
   "id": "d46a6d4b-3c8c-48c2-b310-21ca0cf0a96f",
   "metadata": {},
   "source": [
    "# Find the movies with negative profit\n"
   ]
  },
  {
   "cell_type": "code",
   "execution_count": 36,
   "id": "8e9c8152-d093-4957-b670-f776cb1f95ae",
   "metadata": {},
   "outputs": [],
   "source": [
    "neg_profit = movies[movies.profit < 0]"
   ]
  },
  {
   "cell_type": "code",
   "execution_count": 37,
   "id": "ba19974c-e709-43e8-903a-c06792af3074",
   "metadata": {},
   "outputs": [
    {
     "data": {
      "text/plain": [
       "-4.776162     1\n",
       "-8.674623     1\n",
       "-11.096291    1\n",
       "-11.348338    1\n",
       "-12.247786    1\n",
       "-13.594629    1\n",
       "-28.505730    1\n",
       "-59.192738    1\n",
       "-77.810499    1\n",
       "-79.860848    1\n",
       "-96.179906    1\n",
       "Name: profit, dtype: int64"
      ]
     },
     "execution_count": 37,
     "metadata": {},
     "output_type": "execute_result"
    }
   ],
   "source": [
    "neg_profit.profit.value_counts()"
   ]
  },
  {
   "cell_type": "code",
   "execution_count": 40,
   "id": "09feca0f-7f53-4e5f-bbff-0ec94862ee78",
   "metadata": {},
   "outputs": [
    {
     "data": {
      "text/html": [
       "<div>\n",
       "<style scoped>\n",
       "    .dataframe tbody tr th:only-of-type {\n",
       "        vertical-align: middle;\n",
       "    }\n",
       "\n",
       "    .dataframe tbody tr th {\n",
       "        vertical-align: top;\n",
       "    }\n",
       "\n",
       "    .dataframe thead th {\n",
       "        text-align: right;\n",
       "    }\n",
       "</style>\n",
       "<table border=\"1\" class=\"dataframe\">\n",
       "  <thead>\n",
       "    <tr style=\"text-align: right;\">\n",
       "      <th></th>\n",
       "      <th>Title</th>\n",
       "      <th>title_year</th>\n",
       "      <th>budget</th>\n",
       "      <th>Gross</th>\n",
       "      <th>actor_1_name</th>\n",
       "      <th>actor_2_name</th>\n",
       "      <th>actor_3_name</th>\n",
       "      <th>actor_1_facebook_likes</th>\n",
       "      <th>actor_2_facebook_likes</th>\n",
       "      <th>actor_3_facebook_likes</th>\n",
       "      <th>...</th>\n",
       "      <th>Votes45A</th>\n",
       "      <th>Votes45AM</th>\n",
       "      <th>Votes45AF</th>\n",
       "      <th>Votes1000</th>\n",
       "      <th>VotesUS</th>\n",
       "      <th>VotesnUS</th>\n",
       "      <th>content_rating</th>\n",
       "      <th>Country</th>\n",
       "      <th>profit</th>\n",
       "      <th>profit_colors</th>\n",
       "    </tr>\n",
       "  </thead>\n",
       "  <tbody>\n",
       "  </tbody>\n",
       "</table>\n",
       "<p>0 rows × 64 columns</p>\n",
       "</div>"
      ],
      "text/plain": [
       "Empty DataFrame\n",
       "Columns: [Title, title_year, budget, Gross, actor_1_name, actor_2_name, actor_3_name, actor_1_facebook_likes, actor_2_facebook_likes, actor_3_facebook_likes, IMDb_rating, genre_1, genre_2, genre_3, MetaCritic, Runtime, CVotes10, CVotes09, CVotes08, CVotes07, CVotes06, CVotes05, CVotes04, CVotes03, CVotes02, CVotes01, CVotesMale, CVotesFemale, CVotesU18, CVotesU18M, CVotesU18F, CVotes1829, CVotes1829M, CVotes1829F, CVotes3044, CVotes3044M, CVotes3044F, CVotes45A, CVotes45AM, CVotes45AF, CVotes1000, CVotesUS, CVotesnUS, VotesM, VotesF, VotesU18, VotesU18M, VotesU18F, Votes1829, Votes1829M, Votes1829F, Votes3044, Votes3044M, Votes3044F, Votes45A, Votes45AM, Votes45AF, Votes1000, VotesUS, VotesnUS, content_rating, Country, profit, profit_colors]\n",
       "Index: []\n",
       "\n",
       "[0 rows x 64 columns]"
      ]
     },
     "execution_count": 40,
     "metadata": {},
     "output_type": "execute_result"
    }
   ],
   "source": [
    "# To check if we have \"Tangled\" movie\n",
    "neg_profit[neg_profit[\"Title\"] == \"Argo\"]"
   ]
  },
  {
   "cell_type": "markdown",
   "id": "7614eb7f-6ac9-4c76-b49a-19fa0f61d363",
   "metadata": {},
   "source": [
    "### Since Argo is profitable movie it's not available in neg_profit"
   ]
  },
  {
   "cell_type": "markdown",
   "id": "3c5e7914-5545-4f3e-ab41-fa50571caef1",
   "metadata": {},
   "source": [
    "# Subtask 2.3: Runtime Analysis\n",
    "\n",
    "There is a column named `Runtime` in the dataframe which primarily shows the length of the movie. It will be interesting to see how this variable this distributed. We plot a `histogram` of seaborn to find the `Runtime` range most of the movies fall into."
   ]
  },
  {
   "cell_type": "code",
   "execution_count": 42,
   "id": "f3f564ab-acfa-42d7-8422-d1dc9f88083f",
   "metadata": {},
   "outputs": [
    {
     "data": {
      "image/png": "[encoded data removed]",
      "text/plain": [
       "<Figure size 720x360 with 1 Axes>"
      ]
     },
     "metadata": {
      "needs_background": "light"
     },
     "output_type": "display_data"
    }
   ],
   "source": [
    "movies.Runtime.plot(kind = \"hist\", title = \"Runtime distribution\", color = \"green\", alpha = 0.5, figsize = (10,5))\n",
    "plt.show()"
   ]
  },
  {
   "cell_type": "markdown",
   "id": "8bb58526-c977-4704-a8a5-98b5bca0a003",
   "metadata": {},
   "source": [
    "Most of the movies appear to be around 120 min."
   ]
  },
  {
   "cell_type": "markdown",
   "id": "837e0a02-f91d-478a-b33c-57bcce431f60",
   "metadata": {},
   "source": [
    "# Subtask 2.4: R-Rated Movies\n",
    "\n",
    "Although R rated movies are restricted movies for the under 18 age group, still there are vote counts from that age group. Among all the R rated movies that have been voted by the under-18 age group, find the top 10 movies that have the highest number of votes i.e.`CVotesU18` from the `movies` dataframe. We store these in a dataframe named `PopularR`."
   ]
  },
  {
   "cell_type": "code",
   "execution_count": 44,
   "id": "ac5f775e-dde5-475b-9977-eb3ca6736daf",
   "metadata": {},
   "outputs": [],
   "source": [
    "PopularR = movies[ movies[\"content_rating\"] == \"R\" ].sort_values(by = \"CVotesU18\", ascending = False).head(10)"
   ]
  },
  {
   "cell_type": "code",
   "execution_count": 45,
   "id": "f19d3171-f93b-431e-82f8-18dca5ee1a74",
   "metadata": {},
   "outputs": [
    {
     "data": {
      "text/html": [
       "<div>\n",
       "<style scoped>\n",
       "    .dataframe tbody tr th:only-of-type {\n",
       "        vertical-align: middle;\n",
       "    }\n",
       "\n",
       "    .dataframe tbody tr th {\n",
       "        vertical-align: top;\n",
       "    }\n",
       "\n",
       "    .dataframe thead th {\n",
       "        text-align: right;\n",
       "    }\n",
       "</style>\n",
       "<table border=\"1\" class=\"dataframe\">\n",
       "  <thead>\n",
       "    <tr style=\"text-align: right;\">\n",
       "      <th></th>\n",
       "      <th>Title</th>\n",
       "      <th>title_year</th>\n",
       "      <th>budget</th>\n",
       "      <th>Gross</th>\n",
       "      <th>actor_1_name</th>\n",
       "      <th>actor_2_name</th>\n",
       "      <th>actor_3_name</th>\n",
       "      <th>actor_1_facebook_likes</th>\n",
       "      <th>actor_2_facebook_likes</th>\n",
       "      <th>actor_3_facebook_likes</th>\n",
       "      <th>...</th>\n",
       "      <th>Votes45A</th>\n",
       "      <th>Votes45AM</th>\n",
       "      <th>Votes45AF</th>\n",
       "      <th>Votes1000</th>\n",
       "      <th>VotesUS</th>\n",
       "      <th>VotesnUS</th>\n",
       "      <th>content_rating</th>\n",
       "      <th>Country</th>\n",
       "      <th>profit</th>\n",
       "      <th>profit_colors</th>\n",
       "    </tr>\n",
       "  </thead>\n",
       "  <tbody>\n",
       "    <tr>\n",
       "      <th>0</th>\n",
       "      <td>Deadpool</td>\n",
       "      <td>2016</td>\n",
       "      <td>58.0</td>\n",
       "      <td>363.024263</td>\n",
       "      <td>Ryan Reynolds</td>\n",
       "      <td>Ed Skrein</td>\n",
       "      <td>Stefan Kapicic</td>\n",
       "      <td>16000</td>\n",
       "      <td>805.0</td>\n",
       "      <td>361.0</td>\n",
       "      <td>...</td>\n",
       "      <td>7.8</td>\n",
       "      <td>7.8</td>\n",
       "      <td>7.9</td>\n",
       "      <td>7.3</td>\n",
       "      <td>8.1</td>\n",
       "      <td>7.9</td>\n",
       "      <td>R</td>\n",
       "      <td>USA</td>\n",
       "      <td>305.024263</td>\n",
       "      <td>Orange</td>\n",
       "    </tr>\n",
       "    <tr>\n",
       "      <th>1</th>\n",
       "      <td>The Wolf of Wall Street</td>\n",
       "      <td>2013</td>\n",
       "      <td>100.0</td>\n",
       "      <td>116.866727</td>\n",
       "      <td>Leonardo DiCaprio</td>\n",
       "      <td>Matthew McConaughey</td>\n",
       "      <td>Jon Favreau</td>\n",
       "      <td>29000</td>\n",
       "      <td>11000.0</td>\n",
       "      <td>4000.0</td>\n",
       "      <td>...</td>\n",
       "      <td>7.6</td>\n",
       "      <td>7.6</td>\n",
       "      <td>7.5</td>\n",
       "      <td>7.8</td>\n",
       "      <td>8.1</td>\n",
       "      <td>8.1</td>\n",
       "      <td>R</td>\n",
       "      <td>USA</td>\n",
       "      <td>16.866727</td>\n",
       "      <td>Orange</td>\n",
       "    </tr>\n",
       "    <tr>\n",
       "      <th>2</th>\n",
       "      <td>Django Unchained</td>\n",
       "      <td>2012</td>\n",
       "      <td>100.0</td>\n",
       "      <td>162.804648</td>\n",
       "      <td>Leonardo DiCaprio</td>\n",
       "      <td>Christoph Waltz</td>\n",
       "      <td>Ato Essandoh</td>\n",
       "      <td>29000</td>\n",
       "      <td>11000.0</td>\n",
       "      <td>265.0</td>\n",
       "      <td>...</td>\n",
       "      <td>8.0</td>\n",
       "      <td>8.0</td>\n",
       "      <td>8.1</td>\n",
       "      <td>7.8</td>\n",
       "      <td>8.4</td>\n",
       "      <td>8.4</td>\n",
       "      <td>R</td>\n",
       "      <td>USA</td>\n",
       "      <td>62.804648</td>\n",
       "      <td>Orange</td>\n",
       "    </tr>\n",
       "    <tr>\n",
       "      <th>3</th>\n",
       "      <td>Mad Max: Fury Road</td>\n",
       "      <td>2015</td>\n",
       "      <td>150.0</td>\n",
       "      <td>153.629485</td>\n",
       "      <td>Tom Hardy</td>\n",
       "      <td>Charlize Theron</td>\n",
       "      <td>ZoÃ« Kravitz</td>\n",
       "      <td>27000</td>\n",
       "      <td>9000.0</td>\n",
       "      <td>943.0</td>\n",
       "      <td>...</td>\n",
       "      <td>7.5</td>\n",
       "      <td>7.5</td>\n",
       "      <td>7.2</td>\n",
       "      <td>8.0</td>\n",
       "      <td>8.2</td>\n",
       "      <td>8.0</td>\n",
       "      <td>R</td>\n",
       "      <td>Australia</td>\n",
       "      <td>3.629485</td>\n",
       "      <td>Orange</td>\n",
       "    </tr>\n",
       "    <tr>\n",
       "      <th>4</th>\n",
       "      <td>Whiplash</td>\n",
       "      <td>2014</td>\n",
       "      <td>3.3</td>\n",
       "      <td>13.092000</td>\n",
       "      <td>J.K. Simmons</td>\n",
       "      <td>Melissa Benoist</td>\n",
       "      <td>Chris Mulkey</td>\n",
       "      <td>24000</td>\n",
       "      <td>970.0</td>\n",
       "      <td>535.0</td>\n",
       "      <td>...</td>\n",
       "      <td>8.1</td>\n",
       "      <td>8.1</td>\n",
       "      <td>8.2</td>\n",
       "      <td>8.0</td>\n",
       "      <td>8.6</td>\n",
       "      <td>8.4</td>\n",
       "      <td>R</td>\n",
       "      <td>USA</td>\n",
       "      <td>9.792000</td>\n",
       "      <td>Orange</td>\n",
       "    </tr>\n",
       "    <tr>\n",
       "      <th>5</th>\n",
       "      <td>The Revenant</td>\n",
       "      <td>2015</td>\n",
       "      <td>135.0</td>\n",
       "      <td>183.635922</td>\n",
       "      <td>Leonardo DiCaprio</td>\n",
       "      <td>Tom Hardy</td>\n",
       "      <td>Lukas Haas</td>\n",
       "      <td>29000</td>\n",
       "      <td>27000.0</td>\n",
       "      <td>733.0</td>\n",
       "      <td>...</td>\n",
       "      <td>7.8</td>\n",
       "      <td>7.8</td>\n",
       "      <td>7.8</td>\n",
       "      <td>7.6</td>\n",
       "      <td>8.1</td>\n",
       "      <td>7.9</td>\n",
       "      <td>R</td>\n",
       "      <td>USA</td>\n",
       "      <td>48.635922</td>\n",
       "      <td>Orange</td>\n",
       "    </tr>\n",
       "    <tr>\n",
       "      <th>6</th>\n",
       "      <td>Shutter Island</td>\n",
       "      <td>2010</td>\n",
       "      <td>80.0</td>\n",
       "      <td>127.968405</td>\n",
       "      <td>Leonardo DiCaprio</td>\n",
       "      <td>Joseph Sikora</td>\n",
       "      <td>Nellie Sciutto</td>\n",
       "      <td>29000</td>\n",
       "      <td>223.0</td>\n",
       "      <td>163.0</td>\n",
       "      <td>...</td>\n",
       "      <td>7.5</td>\n",
       "      <td>7.4</td>\n",
       "      <td>7.6</td>\n",
       "      <td>7.6</td>\n",
       "      <td>7.8</td>\n",
       "      <td>8.1</td>\n",
       "      <td>R</td>\n",
       "      <td>USA</td>\n",
       "      <td>47.968405</td>\n",
       "      <td>Orange</td>\n",
       "    </tr>\n",
       "    <tr>\n",
       "      <th>7</th>\n",
       "      <td>Gone Girl</td>\n",
       "      <td>2014</td>\n",
       "      <td>61.0</td>\n",
       "      <td>167.735396</td>\n",
       "      <td>Patrick Fugit</td>\n",
       "      <td>Sela Ward</td>\n",
       "      <td>Emily Ratajkowski</td>\n",
       "      <td>835</td>\n",
       "      <td>812.0</td>\n",
       "      <td>625.0</td>\n",
       "      <td>...</td>\n",
       "      <td>7.7</td>\n",
       "      <td>7.7</td>\n",
       "      <td>7.7</td>\n",
       "      <td>7.6</td>\n",
       "      <td>8.1</td>\n",
       "      <td>8.1</td>\n",
       "      <td>R</td>\n",
       "      <td>USA</td>\n",
       "      <td>106.735396</td>\n",
       "      <td>Orange</td>\n",
       "    </tr>\n",
       "    <tr>\n",
       "      <th>8</th>\n",
       "      <td>The Grand Budapest Hotel</td>\n",
       "      <td>2014</td>\n",
       "      <td>25.0</td>\n",
       "      <td>59.073773</td>\n",
       "      <td>Bill Murray</td>\n",
       "      <td>Tom Wilkinson</td>\n",
       "      <td>F. Murray Abraham</td>\n",
       "      <td>13000</td>\n",
       "      <td>1000.0</td>\n",
       "      <td>670.0</td>\n",
       "      <td>...</td>\n",
       "      <td>7.8</td>\n",
       "      <td>7.8</td>\n",
       "      <td>7.9</td>\n",
       "      <td>7.7</td>\n",
       "      <td>8.1</td>\n",
       "      <td>8.0</td>\n",
       "      <td>R</td>\n",
       "      <td>USA</td>\n",
       "      <td>34.073773</td>\n",
       "      <td>Orange</td>\n",
       "    </tr>\n",
       "    <tr>\n",
       "      <th>9</th>\n",
       "      <td>Birdman or (The Unexpected Virtue of Ignorance)</td>\n",
       "      <td>2014</td>\n",
       "      <td>18.0</td>\n",
       "      <td>42.335698</td>\n",
       "      <td>Emma Stone</td>\n",
       "      <td>Naomi Watts</td>\n",
       "      <td>Merritt Wever</td>\n",
       "      <td>15000</td>\n",
       "      <td>6000.0</td>\n",
       "      <td>529.0</td>\n",
       "      <td>...</td>\n",
       "      <td>7.2</td>\n",
       "      <td>7.3</td>\n",
       "      <td>7.0</td>\n",
       "      <td>7.1</td>\n",
       "      <td>7.9</td>\n",
       "      <td>7.7</td>\n",
       "      <td>R</td>\n",
       "      <td>USA</td>\n",
       "      <td>24.335698</td>\n",
       "      <td>Orange</td>\n",
       "    </tr>\n",
       "  </tbody>\n",
       "</table>\n",
       "<p>10 rows × 64 columns</p>\n",
       "</div>"
      ],
      "text/plain": [
       "                                             Title  title_year  budget  \\\n",
       "0                                         Deadpool        2016    58.0   \n",
       "1                          The Wolf of Wall Street        2013   100.0   \n",
       "2                                 Django Unchained        2012   100.0   \n",
       "3                               Mad Max: Fury Road        2015   150.0   \n",
       "4                                         Whiplash        2014     3.3   \n",
       "5                                     The Revenant        2015   135.0   \n",
       "6                                   Shutter Island        2010    80.0   \n",
       "7                                        Gone Girl        2014    61.0   \n",
       "8                         The Grand Budapest Hotel        2014    25.0   \n",
       "9  Birdman or (The Unexpected Virtue of Ignorance)        2014    18.0   \n",
       "\n",
       "        Gross       actor_1_name         actor_2_name       actor_3_name  \\\n",
       "0  363.024263      Ryan Reynolds            Ed Skrein     Stefan Kapicic   \n",
       "1  116.866727  Leonardo DiCaprio  Matthew McConaughey        Jon Favreau   \n",
       "2  162.804648  Leonardo DiCaprio      Christoph Waltz       Ato Essandoh   \n",
       "3  153.629485          Tom Hardy      Charlize Theron       ZoÃ« Kravitz   \n",
       "4   13.092000       J.K. Simmons      Melissa Benoist       Chris Mulkey   \n",
       "5  183.635922  Leonardo DiCaprio            Tom Hardy         Lukas Haas   \n",
       "6  127.968405  Leonardo DiCaprio        Joseph Sikora     Nellie Sciutto   \n",
       "7  167.735396      Patrick Fugit            Sela Ward  Emily Ratajkowski   \n",
       "8   59.073773        Bill Murray        Tom Wilkinson  F. Murray Abraham   \n",
       "9   42.335698         Emma Stone          Naomi Watts      Merritt Wever   \n",
       "\n",
       "   actor_1_facebook_likes  actor_2_facebook_likes  actor_3_facebook_likes  \\\n",
       "0                   16000                   805.0                   361.0   \n",
       "1                   29000                 11000.0                  4000.0   \n",
       "2                   29000                 11000.0                   265.0   \n",
       "3                   27000                  9000.0                   943.0   \n",
       "4                   24000                   970.0                   535.0   \n",
       "5                   29000                 27000.0                   733.0   \n",
       "6                   29000                   223.0                   163.0   \n",
       "7                     835                   812.0                   625.0   \n",
       "8                   13000                  1000.0                   670.0   \n",
       "9                   15000                  6000.0                   529.0   \n",
       "\n",
       "   ...  Votes45A Votes45AM Votes45AF Votes1000  VotesUS  VotesnUS  \\\n",
       "0  ...       7.8       7.8       7.9       7.3      8.1       7.9   \n",
       "1  ...       7.6       7.6       7.5       7.8      8.1       8.1   \n",
       "2  ...       8.0       8.0       8.1       7.8      8.4       8.4   \n",
       "3  ...       7.5       7.5       7.2       8.0      8.2       8.0   \n",
       "4  ...       8.1       8.1       8.2       8.0      8.6       8.4   \n",
       "5  ...       7.8       7.8       7.8       7.6      8.1       7.9   \n",
       "6  ...       7.5       7.4       7.6       7.6      7.8       8.1   \n",
       "7  ...       7.7       7.7       7.7       7.6      8.1       8.1   \n",
       "8  ...       7.8       7.8       7.9       7.7      8.1       8.0   \n",
       "9  ...       7.2       7.3       7.0       7.1      7.9       7.7   \n",
       "\n",
       "   content_rating    Country      profit  profit_colors  \n",
       "0               R        USA  305.024263         Orange  \n",
       "1               R        USA   16.866727         Orange  \n",
       "2               R        USA   62.804648         Orange  \n",
       "3               R  Australia    3.629485         Orange  \n",
       "4               R        USA    9.792000         Orange  \n",
       "5               R        USA   48.635922         Orange  \n",
       "6               R        USA   47.968405         Orange  \n",
       "7               R        USA  106.735396         Orange  \n",
       "8               R        USA   34.073773         Orange  \n",
       "9               R        USA   24.335698         Orange  \n",
       "\n",
       "[10 rows x 64 columns]"
      ]
     },
     "execution_count": 45,
     "metadata": {},
     "output_type": "execute_result"
    }
   ],
   "source": [
    "PopularR.reset_index(drop = True)"
   ]
  },
  {
   "cell_type": "markdown",
   "id": "5dd901f4-925a-49e0-8861-ff5440f78a54",
   "metadata": {},
   "source": [
    "### Observations\n",
    "\n",
    " As we can observe these kids are fan of Deadpool "
   ]
  },
  {
   "cell_type": "markdown",
   "id": "10b1be5f-18a9-4e69-8a85-e3a29faeba48",
   "metadata": {},
   "source": [
    " # task 3 Combine the Dataframe by Genres"
   ]
  },
  {
   "cell_type": "markdown",
   "id": "60e1e1d1-ddd8-47e3-97fd-c6dd8ac3b28f",
   "metadata": {},
   "source": [
    "#### Creating a dataframe df_by_genre"
   ]
  },
  {
   "cell_type": "code",
   "execution_count": 49,
   "id": "4aa81176-3d63-4c07-a1b8-cef0fa11f04c",
   "metadata": {},
   "outputs": [
    {
     "data": {
      "text/plain": [
       "(100, 49)"
      ]
     },
     "execution_count": 49,
     "metadata": {},
     "output_type": "execute_result"
    }
   ],
   "source": [
    "df_by_genre = movies.loc[:, \"genre_1\":\"VotesnUS\"]\n",
    "df_by_genre.shape"
   ]
  },
  {
   "cell_type": "code",
   "execution_count": 50,
   "id": "46b457ca-c955-4162-bcf4-287e0bffd57a",
   "metadata": {},
   "outputs": [],
   "source": [
    "df_by_genre[\"cnt\"] = 1"
   ]
  },
  {
   "cell_type": "code",
   "execution_count": 51,
   "id": "86f76b3a-dea1-4e7f-b4fb-23ddc46fba22",
   "metadata": {},
   "outputs": [
    {
     "data": {
      "text/plain": [
       "1    100\n",
       "Name: cnt, dtype: int64"
      ]
     },
     "execution_count": 51,
     "metadata": {},
     "output_type": "execute_result"
    }
   ],
   "source": [
    "df_by_genre.cnt.value_counts()"
   ]
  },
  {
   "cell_type": "markdown",
   "id": "fff8d496-8730-40b5-9237-3deba0dc7dfb",
   "metadata": {},
   "source": [
    "- Grouping the movies by individual genres.\n",
    "-columns related to CVotes and Votes columns and store it in a dataframe `df_by_g1`.\n",
    "-Performing the same operation for genre_2 and genre_3 and store it dataframes df_by_g2 and df_by_g3 respectively.\n"
   ]
  },
  {
   "cell_type": "code",
   "execution_count": 56,
   "id": "a20dd785-4713-4305-a035-3893c9730e59",
   "metadata": {},
   "outputs": [],
   "source": [
    "df_by_g1 = df_by_genre.groupby(by = \"genre_1\").agg(np.sum)\n",
    "df_by_g2 = df_by_genre.groupby(by = \"genre_2\").agg(np.sum)\n",
    "df_by_g3 = df_by_genre.groupby(by = \"genre_3\").agg(np.sum)"
   ]
  },
  {
   "cell_type": "code",
   "execution_count": 53,
   "id": "17dfa1da-9f2a-4bf8-a08b-cf570111b3a4",
   "metadata": {},
   "outputs": [
    {
     "name": "stdout",
     "output_type": "stream",
     "text": [
      "genre_1 <bound method Index.unique of Index(['Action', 'Adventure', 'Animation', 'Biography', 'Comedy', 'Crime',\n",
      "       'Drama', 'Mystery'],\n",
      "      dtype='object', name='genre_1')>\n",
      "genre_2 <bound method Index.unique of Index(['Action', 'Adventure', 'Biography', 'Comedy', 'Crime', 'Drama',\n",
      "       'Family', 'Fantasy', 'History', 'Horror', 'Music', 'Musical', 'Mystery',\n",
      "       'Romance', 'Sci-Fi', 'Sport', 'Thriller', 'War', 'Western'],\n",
      "      dtype='object', name='genre_2')>\n",
      "genre_3 <bound method Index.unique of Index(['Adventure', 'Comedy', 'Crime', 'Drama', 'Family', 'Fantasy', 'History',\n",
      "       'Music', 'Mystery', 'Romance', 'Sci-Fi', 'Sport', 'Thriller', 'War',\n",
      "       'Western'],\n",
      "      dtype='object', name='genre_3')>\n"
     ]
    }
   ],
   "source": [
    "print(\"genre_1\", df_by_g1.index.unique)\n",
    "print(\"genre_2\", df_by_g2.index.unique)\n",
    "print(\"genre_3\", df_by_g3.index.unique)"
   ]
  },
  {
   "cell_type": "code",
   "execution_count": 54,
   "id": "591ecb30-05da-458e-83ac-3436648996b6",
   "metadata": {},
   "outputs": [],
   "source": [
    "df_add = df_by_g1.add(df_by_g2, fill_value = 0).add(df_by_g3, fill_value = 0)"
   ]
  },
  {
   "cell_type": "code",
   "execution_count": 57,
   "id": "945e9d29-9c5f-42ba-a30a-6f5029ea7155",
   "metadata": {},
   "outputs": [],
   "source": [
    "genre_top10 = df_add[df_add[\"cnt\"] >= 10]"
   ]
  },
  {
   "cell_type": "code",
   "execution_count": 62,
   "id": "13338edf-b758-4667-a7cb-b0d5f9d35216",
   "metadata": {},
   "outputs": [],
   "source": [
    "import warnings\n",
    "warnings.filterwarnings('ignore')"
   ]
  },
  {
   "cell_type": "code",
   "execution_count": 63,
   "id": "8405da6c-aead-4994-ba20-e6ac56f8185c",
   "metadata": {},
   "outputs": [],
   "source": [
    "for each_col in genre_top10.columns[:-1]:\n",
    "    genre_top10[each_col] /= genre_top10[\"cnt\"].copy()"
   ]
  },
  {
   "cell_type": "code",
   "execution_count": 64,
   "id": "eb98d6e5-fa6a-4956-b6e9-bef5f6546b2e",
   "metadata": {},
   "outputs": [],
   "source": [
    "genre_top10.loc[:,\"VotesM\":\"VotesnUS\"] = genre_top10.loc[:,\"VotesM\":\"VotesnUS\"].apply(lambda x: round(x,2))"
   ]
  },
  {
   "cell_type": "code",
   "execution_count": 65,
   "id": "eae89fd8-a267-40e3-9cfb-71455a718e95",
   "metadata": {},
   "outputs": [],
   "source": [
    "list_cvotes = genre_top10.loc[:,\"CVotes10\":\"CVotesnUS\"].columns\n",
    "genre_top10[list_cvotes] = genre_top10[list_cvotes].astype(int)"
   ]
  },
  {
   "cell_type": "code",
   "execution_count": 61,
   "id": "233927fc-f427-47e1-bfdb-27f71a469e1c",
   "metadata": {},
   "outputs": [
    {
     "data": {
      "text/html": [
       "<div>\n",
       "<style scoped>\n",
       "    .dataframe tbody tr th:only-of-type {\n",
       "        vertical-align: middle;\n",
       "    }\n",
       "\n",
       "    .dataframe tbody tr th {\n",
       "        vertical-align: top;\n",
       "    }\n",
       "\n",
       "    .dataframe thead th {\n",
       "        text-align: right;\n",
       "    }\n",
       "</style>\n",
       "<table border=\"1\" class=\"dataframe\">\n",
       "  <thead>\n",
       "    <tr style=\"text-align: right;\">\n",
       "      <th></th>\n",
       "      <th>MetaCritic</th>\n",
       "      <th>Runtime</th>\n",
       "      <th>CVotes10</th>\n",
       "      <th>CVotes09</th>\n",
       "      <th>CVotes08</th>\n",
       "      <th>CVotes07</th>\n",
       "      <th>CVotes06</th>\n",
       "      <th>CVotes05</th>\n",
       "      <th>CVotes04</th>\n",
       "      <th>CVotes03</th>\n",
       "      <th>...</th>\n",
       "      <th>Votes3044</th>\n",
       "      <th>Votes3044M</th>\n",
       "      <th>Votes3044F</th>\n",
       "      <th>Votes45A</th>\n",
       "      <th>Votes45AM</th>\n",
       "      <th>Votes45AF</th>\n",
       "      <th>Votes1000</th>\n",
       "      <th>VotesUS</th>\n",
       "      <th>VotesnUS</th>\n",
       "      <th>cnt</th>\n",
       "    </tr>\n",
       "  </thead>\n",
       "  <tbody>\n",
       "    <tr>\n",
       "      <th>Action</th>\n",
       "      <td>72.096774</td>\n",
       "      <td>127.935484</td>\n",
       "      <td>102144</td>\n",
       "      <td>114433</td>\n",
       "      <td>150895</td>\n",
       "      <td>94262</td>\n",
       "      <td>34688</td>\n",
       "      <td>12693</td>\n",
       "      <td>5386</td>\n",
       "      <td>3064</td>\n",
       "      <td>...</td>\n",
       "      <td>7.74</td>\n",
       "      <td>7.73</td>\n",
       "      <td>7.80</td>\n",
       "      <td>7.65</td>\n",
       "      <td>7.63</td>\n",
       "      <td>7.75</td>\n",
       "      <td>7.30</td>\n",
       "      <td>7.99</td>\n",
       "      <td>7.76</td>\n",
       "      <td>31.0</td>\n",
       "    </tr>\n",
       "    <tr>\n",
       "      <th>Adventure</th>\n",
       "      <td>74.763158</td>\n",
       "      <td>126.315789</td>\n",
       "      <td>94596</td>\n",
       "      <td>105636</td>\n",
       "      <td>138482</td>\n",
       "      <td>86367</td>\n",
       "      <td>31896</td>\n",
       "      <td>11551</td>\n",
       "      <td>4817</td>\n",
       "      <td>2718</td>\n",
       "      <td>...</td>\n",
       "      <td>7.75</td>\n",
       "      <td>7.73</td>\n",
       "      <td>7.87</td>\n",
       "      <td>7.68</td>\n",
       "      <td>7.64</td>\n",
       "      <td>7.84</td>\n",
       "      <td>7.38</td>\n",
       "      <td>7.99</td>\n",
       "      <td>7.79</td>\n",
       "      <td>38.0</td>\n",
       "    </tr>\n",
       "    <tr>\n",
       "      <th>Animation</th>\n",
       "      <td>77.818182</td>\n",
       "      <td>114.363636</td>\n",
       "      <td>61960</td>\n",
       "      <td>72566</td>\n",
       "      <td>104837</td>\n",
       "      <td>65707</td>\n",
       "      <td>22825</td>\n",
       "      <td>7551</td>\n",
       "      <td>2792</td>\n",
       "      <td>1430</td>\n",
       "      <td>...</td>\n",
       "      <td>7.76</td>\n",
       "      <td>7.72</td>\n",
       "      <td>7.98</td>\n",
       "      <td>7.68</td>\n",
       "      <td>7.65</td>\n",
       "      <td>7.88</td>\n",
       "      <td>7.27</td>\n",
       "      <td>7.96</td>\n",
       "      <td>7.83</td>\n",
       "      <td>11.0</td>\n",
       "    </tr>\n",
       "    <tr>\n",
       "      <th>Biography</th>\n",
       "      <td>76.333333</td>\n",
       "      <td>124.444444</td>\n",
       "      <td>47333</td>\n",
       "      <td>77867</td>\n",
       "      <td>123948</td>\n",
       "      <td>74054</td>\n",
       "      <td>23644</td>\n",
       "      <td>7702</td>\n",
       "      <td>2984</td>\n",
       "      <td>1639</td>\n",
       "      <td>...</td>\n",
       "      <td>7.73</td>\n",
       "      <td>7.72</td>\n",
       "      <td>7.77</td>\n",
       "      <td>7.69</td>\n",
       "      <td>7.66</td>\n",
       "      <td>7.87</td>\n",
       "      <td>7.23</td>\n",
       "      <td>7.93</td>\n",
       "      <td>7.77</td>\n",
       "      <td>18.0</td>\n",
       "    </tr>\n",
       "    <tr>\n",
       "      <th>Comedy</th>\n",
       "      <td>72.260870</td>\n",
       "      <td>117.260870</td>\n",
       "      <td>60157</td>\n",
       "      <td>77173</td>\n",
       "      <td>108993</td>\n",
       "      <td>69176</td>\n",
       "      <td>26099</td>\n",
       "      <td>9863</td>\n",
       "      <td>4237</td>\n",
       "      <td>2444</td>\n",
       "      <td>...</td>\n",
       "      <td>7.71</td>\n",
       "      <td>7.71</td>\n",
       "      <td>7.75</td>\n",
       "      <td>7.61</td>\n",
       "      <td>7.60</td>\n",
       "      <td>7.70</td>\n",
       "      <td>7.19</td>\n",
       "      <td>7.94</td>\n",
       "      <td>7.78</td>\n",
       "      <td>23.0</td>\n",
       "    </tr>\n",
       "  </tbody>\n",
       "</table>\n",
       "<p>5 rows × 47 columns</p>\n",
       "</div>"
      ],
      "text/plain": [
       "           MetaCritic     Runtime  CVotes10  CVotes09  CVotes08  CVotes07  \\\n",
       "Action      72.096774  127.935484    102144    114433    150895     94262   \n",
       "Adventure   74.763158  126.315789     94596    105636    138482     86367   \n",
       "Animation   77.818182  114.363636     61960     72566    104837     65707   \n",
       "Biography   76.333333  124.444444     47333     77867    123948     74054   \n",
       "Comedy      72.260870  117.260870     60157     77173    108993     69176   \n",
       "\n",
       "           CVotes06  CVotes05  CVotes04  CVotes03  ...  Votes3044  Votes3044M  \\\n",
       "Action        34688     12693      5386      3064  ...       7.74        7.73   \n",
       "Adventure     31896     11551      4817      2718  ...       7.75        7.73   \n",
       "Animation     22825      7551      2792      1430  ...       7.76        7.72   \n",
       "Biography     23644      7702      2984      1639  ...       7.73        7.72   \n",
       "Comedy        26099      9863      4237      2444  ...       7.71        7.71   \n",
       "\n",
       "           Votes3044F  Votes45A  Votes45AM  Votes45AF  Votes1000  VotesUS  \\\n",
       "Action           7.80      7.65       7.63       7.75       7.30     7.99   \n",
       "Adventure        7.87      7.68       7.64       7.84       7.38     7.99   \n",
       "Animation        7.98      7.68       7.65       7.88       7.27     7.96   \n",
       "Biography        7.77      7.69       7.66       7.87       7.23     7.93   \n",
       "Comedy           7.75      7.61       7.60       7.70       7.19     7.94   \n",
       "\n",
       "           VotesnUS   cnt  \n",
       "Action         7.76  31.0  \n",
       "Adventure      7.79  38.0  \n",
       "Animation      7.83  11.0  \n",
       "Biography      7.77  18.0  \n",
       "Comedy         7.78  23.0  \n",
       "\n",
       "[5 rows x 47 columns]"
      ]
     },
     "execution_count": 61,
     "metadata": {},
     "output_type": "execute_result"
    }
   ],
   "source": [
    "genre_top10.head()"
   ]
  },
  {
   "cell_type": "markdown",
   "id": "cfee9b22-32eb-4d36-806b-4d7c569ba74c",
   "metadata": {},
   "source": [
    "# Task 3.1 :Genre Counts!\n",
    "\n",
    "Now let's derive some insights from this data frame. Make a bar chart plotting different genres vs cnt using seaborn."
   ]
  },
  {
   "cell_type": "code",
   "execution_count": 67,
   "id": "6a8181e1-2148-48f4-9c2a-36bd83ba81df",
   "metadata": {},
   "outputs": [
    {
     "data": {
      "image/png": "[encoded data removed]",
      "text/plain": [
       "<Figure size 432x288 with 1 Axes>"
      ]
     },
     "metadata": {
      "needs_background": "light"
     },
     "output_type": "display_data"
    }
   ],
   "source": [
    "sns.barplot(data = genre_top10, x = genre_top10.index, y = \"cnt\")\n",
    "plt.xticks(rotation = 90)\n",
    "plt.show()"
   ]
  },
  {
   "cell_type": "markdown",
   "id": "26f804ee-cc4e-4ba6-86d6-4f3a4ea2ef22",
   "metadata": {},
   "source": [
    "As we can see`Drama`is the tallest bar hence it is the most produced."
   ]
  },
  {
   "cell_type": "markdown",
   "id": "eedac3d2-47cb-4705-82ad-45b2d9eac8ed",
   "metadata": {},
   "source": [
    "  #  Subtask 3.2: Gender and Genre"
   ]
  },
  {
   "cell_type": "markdown",
   "id": "ec62352c-678c-4f1e-ad3c-456b442b7739",
   "metadata": {},
   "source": [
    "If we have closely looked at the Votes- and CVotes-related columns, you might have noticed the suffixes `F` and `M` indicating Female and Male. Since we have the vote counts for both males and females, across various age groups, let's now see how the popularity of genres vary between the two genders in the dataframe. "
   ]
  },
  {
   "cell_type": "markdown",
   "id": "c1118491-a516-4ed0-89c2-6007497808ab",
   "metadata": {},
   "source": [
    "I am taking 2 heat maps here. one for CVotes and one for Votes"
   ]
  },
  {
   "cell_type": "markdown",
   "id": "0442bdeb-7183-450a-a802-9713f10a8c58",
   "metadata": {},
   "source": [
    "# 1st set of heat maps for CVotes-related columns"
   ]
  },
  {
   "cell_type": "code",
   "execution_count": 77,
   "id": "bd4c5aa3-6cf8-4222-960f-db11c187aa8c",
   "metadata": {},
   "outputs": [],
   "source": [
    "male_cvotes = pd.pivot_table(data=genre_top10, values = [\"CVotesU18M\",\"CVotes1829M\",\"CVotes3044M\",\"CVotes45AM\"], index = genre_top10.index, \n",
    "               aggfunc = np.mean)\n",
    "female_cvotes = pd.pivot_table(data=genre_top10, values = [\"CVotesU18F\",\"CVotes1829F\",\"CVotes3044F\",\"CVotes45AF\"], index = genre_top10.index, \n",
    "               aggfunc = np.mean)"
   ]
  },
  {
   "cell_type": "code",
   "execution_count": 73,
   "id": "95287c9e-b56c-43da-b455-653f5e6ef412",
   "metadata": {},
   "outputs": [
    {
     "data": {
      "image/png": "[encoded data removed]",
      "text/plain": [
       "<Figure size 1008x432 with 4 Axes>"
      ]
     },
     "metadata": {
      "needs_background": "light"
     },
     "output_type": "display_data"
    }
   ],
   "source": [
    "fig, ax = plt.subplots(nrows=1, ncols=2, figsize = [14,6])\n",
    "\n",
    "sns.heatmap(male_cvotes, cmap = \"RdYlGn\", annot = True, ax = ax[0], fmt = \"d\")\n",
    "sns.heatmap(female_cvotes, cmap = \"RdYlGn\", annot = True, ax = ax[1], fmt = \"d\")\n",
    "plt.tight_layout()\n",
    "\n",
    "plt.show()"
   ]
  },
  {
   "cell_type": "markdown",
   "id": "e152886f-66ac-4edc-8a9c-37d10e87874c",
   "metadata": {},
   "source": [
    "**`Observations:`** A few inferences that can be seen from the heatmap above is that males have voted more than females, and Sci-Fi appears to be most popular among the 18-29 age group irrespective of their gender. Additionally,\n",
    "- Observation 1: We can see that all movie genres are least voted by Under 18 male and female group. This could be because there could be parental restrictions on the number aof movies that can be seen by these teenagers. There could also be restriction based on content rating which might affect their voting. We still have to verify this cause with other datasets\n",
    "- Observation 2: `Animation` is the least voted genre by 45 & above female age group whereas it's `Romance` for 45 & above male age group\n",
    "- Observation 3: `Sci-Fi` is the most voted genre by both male and female 30-44 age group"
   ]
  },
  {
   "cell_type": "code",
   "execution_count": 78,
   "id": "3e34583c-f9c1-43ed-b4c9-ff806c816f22",
   "metadata": {},
   "outputs": [],
   "source": [
    "# 2nd set of heat maps for Votes-related columns\n"
   ]
  },
  {
   "cell_type": "code",
   "execution_count": 79,
   "id": "cc98c506-29ad-4a6d-8741-2308fbafbb65",
   "metadata": {},
   "outputs": [],
   "source": [
    "male_votes = pd.pivot_table(data=genre_top10, values = [\"VotesU18M\",\"Votes1829M\",\"Votes3044M\",\"Votes45AM\"], index = genre_top10.index, \n",
    "               aggfunc = np.mean)\n",
    "female_votes = pd.pivot_table(data=genre_top10, values = [\"VotesU18F\",\"Votes1829F\",\"Votes3044F\",\"Votes45AF\"], index = genre_top10.index, \n",
    "               aggfunc = np.mean)"
   ]
  },
  {
   "cell_type": "code",
   "execution_count": 80,
   "id": "a383c518-a79f-47df-8aad-a14407559f7a",
   "metadata": {},
   "outputs": [
    {
     "data": {
      "image/png": "[encoded data removed]",
      "text/plain": [
       "<Figure size 1008x432 with 4 Axes>"
      ]
     },
     "metadata": {
      "needs_background": "light"
     },
     "output_type": "display_data"
    }
   ],
   "source": [
    "fig, ax = plt.subplots(nrows=1, ncols=2, figsize = [14,6])\n",
    "\n",
    "sns.heatmap(male_votes, cmap = \"RdYlGn\", annot = True, ax = ax[0], fmt = \"n\")\n",
    "sns.heatmap(female_votes, cmap = \"RdYlGn\", annot = True, ax = ax[1], fmt = \"n\")\n",
    "plt.tight_layout()\n",
    "\n",
    "plt.show()"
   ]
  },
  {
   "cell_type": "markdown",
   "id": "a1387d44-fe56-49d0-8c1b-2f20955db5a8",
   "metadata": {},
   "source": [
    "**`Observations:`** Sci-Fi appears to be the highest rated genre in the age group of U18 for both males and females. Also, females in this age group have rated it a bit higher than the males in the same age group. Additionally,\n",
    "- Observation 1: *`Romance`* is the worst rated genre by both male and female with age 45 & above. In fact, as we can see from the pattern, the Avg rating decreases through age (U18, U1829, U3044, U45A) for both male and female age groups\n",
    "- Observation 2: `Animation` movies are highest rated by 18-29 females while `Sci-Fi` are the highest rated by 18-29 males\n",
    "- Observation 3: `Crime` movies are rated higher by U18 males compared to U18 females"
   ]
  },
  {
   "cell_type": "code",
   "execution_count": null,
   "id": "509efdb1-c4ba-4870-9ed9-463cf342b616",
   "metadata": {},
   "outputs": [],
   "source": []
  }
 ],
 "metadata": {
  "kernelspec": {
   "display_name": "Python 3 (ipykernel)",
   "language": "python",
   "name": "python3"
  },
  "language_info": {
   "codemirror_mode": {
    "name": "ipython",
    "version": 3
   },
   "file_extension": ".py",
   "mimetype": "text/x-python",
   "name": "python",
   "nbconvert_exporter": "python",
   "pygments_lexer": "ipython3",
   "version": "3.9.12"
  }
 },
 "nbformat": 4,
 "nbformat_minor": 5
}
